{
  "nbformat": 4,
  "nbformat_minor": 0,
  "metadata": {
    "colab": {
      "name": "TDA.ipynb",
      "provenance": [],
      "include_colab_link": true
    },
    "kernelspec": {
      "name": "python3",
      "display_name": "Python 3"
    }
  },
  "cells": [
    {
      "cell_type": "markdown",
      "metadata": {
        "id": "view-in-github",
        "colab_type": "text"
      },
      "source": [
        "<a href=\"https://colab.research.google.com/github/isabh17/IPC2-Apuntadores/blob/main/TDA.ipynb\" target=\"_parent\"><img src=\"https://colab.research.google.com/assets/colab-badge.svg\" alt=\"Open In Colab\"/></a>"
      ]
    },
    {
      "cell_type": "markdown",
      "metadata": {
        "id": "S1SeGtV4c_Ee"
      },
      "source": [
        "**Ejercicio de listas enlazadas**\r\n",
        "\r\n",
        "**Ejemplo**"
      ]
    },
    {
      "cell_type": "code",
      "metadata": {
        "id": "ll0iWHhedLQ9"
      },
      "source": [
        "class cliente: \r\n",
        "  def __init__(self, nombre, no_habitacion):\r\n",
        "    self.nombre = nombre\r\n",
        "    self.no_habitacion = no_habitacion"
      ],
      "execution_count": null,
      "outputs": []
    },
    {
      "cell_type": "code",
      "metadata": {
        "id": "TWxpKoYfWIPT"
      },
      "source": [
        "class node:\r\n",
        "  def __init__(self,cliente=None, next=None):\r\n",
        "    self.cliente = cliente\r\n",
        "    self.next = next"
      ],
      "execution_count": null,
      "outputs": []
    },
    {
      "cell_type": "code",
      "metadata": {
        "id": "dRl95sWrYIvF",
        "colab": {
          "base_uri": "https://localhost:8080/",
          "height": 130
        },
        "outputId": "fed224ad-fd49-4f7f-d9fa-8690ddb1514f"
      },
      "source": [
        "class linked_list:\r\n",
        "  def __init__(self):\r\n",
        "    self.head = None #la cabecera o primer nodo apunta a vacío\r\n",
        "  \r\n",
        "  def insertar(self,cliente): #se crea el objeto tipo cliente y se inserta en la función, se hace de esta manera para que entonces cada vez que se haga una inserción, sea de un cliente\r\n",
        "    if not self.head:\r\n",
        "      self.head = node(cliente=cliente)\r\n",
        "      return\r\n",
        "    current = self.head #el nodo actual es la cabecera\r\n",
        "    while current.next:\r\n",
        "      current = current.next\r\n",
        "    current.next = node(cliente=cliente)\r\n",
        "\r\n",
        "  def imprimir(self):\r\n",
        "    node = self.head\r\n",
        "    while node != None:\r\n",
        "      print(node.cliente.nombre, end=\"=>\")\r\n",
        "      node = node.next\r\n",
        "  \r\n",
        "  def eliminar(self, no_habitacion):\r\n",
        "    current = self.head\r\n",
        "    previous = None\r\n",
        "\r\n",
        "    while current and current.cliente.no_habitacion != no_habitacion:\r\n",
        "      previous = current\r\n",
        "      current = current.next\r\n",
        "    if previous=None:\r\n",
        "      self.head = current.next\r\n",
        "    elif current:\r\n",
        "      previous.next = current.next \r\n",
        "      current.next = none\r\n"
      ],
      "execution_count": null,
      "outputs": [
        {
          "output_type": "error",
          "ename": "SyntaxError",
          "evalue": "ignored",
          "traceback": [
            "\u001b[0;36m  File \u001b[0;32m\"<ipython-input-7-3d4b8a6f88f1>\"\u001b[0;36m, line \u001b[0;32m27\u001b[0m\n\u001b[0;31m    if previous=None:\u001b[0m\n\u001b[0m               ^\u001b[0m\n\u001b[0;31mSyntaxError\u001b[0m\u001b[0;31m:\u001b[0m invalid syntax\n"
          ]
        }
      ]
    },
    {
      "cell_type": "code",
      "metadata": {
        "id": "Sfet4Nn9c3ly"
      },
      "source": [
        "c1 = cliente(\"Estuardo Zapeta\", 101)\r\n",
        "c2 = cliente(\"Marco López\", 103)\r\n",
        "c3 = cliente(\"Josue Armas\", 204)\r\n",
        "c4 = cliente(\"Glady Olmos\", 302)"
      ],
      "execution_count": null,
      "outputs": []
    },
    {
      "cell_type": "code",
      "metadata": {
        "id": "yKX1K_wAdVcI"
      },
      "source": [
        "lista = linked_list()\r\n",
        "lista.insertar(c1)\r\n",
        "lista.insertar(c2)\r\n",
        "lista.insertar(c3)\r\n",
        "lista.insertar(c4)\r\n",
        "lista.imprimir()"
      ],
      "execution_count": null,
      "outputs": []
    },
    {
      "cell_type": "code",
      "metadata": {
        "id": "AuGuM3h0XEQA"
      },
      "source": [
        "def test(a, b=0):\r\n",
        "  #codigo\r\n",
        "test(1) #asigna valor a 'a'\r\n",
        "#Ej. para como funciona asignar valores a datos por parámetro"
      ],
      "execution_count": null,
      "outputs": []
    },
    {
      "cell_type": "markdown",
      "metadata": {
        "id": "dR-ltuz4orcj"
      },
      "source": [
        "**Ejemplo Listas Circulares**"
      ]
    },
    {
      "cell_type": "code",
      "metadata": {
        "id": "5uOyP4ONoxql"
      },
      "source": [
        "class linked_list_circular:\r\n",
        "  def __init__(self, head=None):\r\n",
        "    self.head = head\r\n",
        "    self.size = 0\r\n",
        "  \r\n",
        "  def insertar(self, cliente): #siempre se usa self\r\n",
        "    if self.size == 0:\r\n",
        "      self.head = node(cliente = cliente)\r\n",
        "      self.head.next = self.head #recursivamente apuntandose a si mismo\r\n",
        "    else:\r\n",
        "      new_node = node(cliente=cliente, next=self.head.next)\r\n",
        "      self.head.next = new_node\r\n",
        "    self.size +=1\r\n",
        "  \r\n",
        "  def imprimir(self):\r\n",
        "    if self.head is None:\r\n",
        "      return\r\n",
        "    node = self.head\r\n",
        "    print(node.cliente.nombre, end = \" => \")\r\n",
        "    while node.next != self.head:\r\n",
        "      node = node.next\r\n",
        "      print(node.cliente.nombre, end \" => \")\r\n",
        "    \r\n",
        "  def eliminar(self, no_habitacion):\r\n",
        "    node = self.head\r\n",
        "    previous = None\r\n",
        "\r\n",
        "    while True:\r\n",
        "      if node.cliente.no_habitacion = no_habitacion:\r\n",
        "        if previous is not None:\r\n",
        "          previous.next = node.next"
      ],
      "execution_count": null,
      "outputs": []
    },
    {
      "cell_type": "code",
      "metadata": {
        "id": "MEjteysHRVqY"
      },
      "source": [
        "lista_c = linked_list_circular()\r\n",
        "lista_c.insertar(c1)\r\n",
        "lista_c.insertar(c2)\r\n",
        "lista_c.insertar(c3)"
      ],
      "execution_count": null,
      "outputs": []
    }
  ]
}